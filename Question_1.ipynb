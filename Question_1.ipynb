{
  "nbformat": 4,
  "nbformat_minor": 0,
  "metadata": {
    "colab": {
      "provenance": []
    },
    "kernelspec": {
      "name": "python3",
      "display_name": "Python 3"
    },
    "language_info": {
      "name": "python"
    }
  },
  "cells": [
    {
      "cell_type": "code",
      "execution_count": 2,
      "metadata": {
        "colab": {
          "base_uri": "https://localhost:8080/"
        },
        "id": "j6lmglzYw7l0",
        "outputId": "4c525e3f-c590-428f-d59c-cadcafd715c0"
      },
      "outputs": [
        {
          "output_type": "stream",
          "name": "stdout",
          "text": [
            "Epoch 0: Test Accuracy = 0.7400\n",
            "Epoch 10: Test Accuracy = 0.8350\n",
            "Epoch 20: Test Accuracy = 0.8350\n",
            "Epoch 30: Test Accuracy = 0.8300\n",
            "Epoch 40: Test Accuracy = 0.8500\n",
            "Epoch 50: Test Accuracy = 0.8450\n",
            "Epoch 60: Test Accuracy = 0.8650\n",
            "Epoch 70: Test Accuracy = 0.8400\n",
            "Epoch 80: Test Accuracy = 0.8450\n",
            "Epoch 90: Test Accuracy = 0.8150\n",
            "\n",
            "Final Test Accuracy: 0.8450\n"
          ]
        }
      ],
      "source": [
        "import torch\n",
        "import torch.nn as nn\n",
        "import numpy as np\n",
        "from sklearn.datasets import make_classification\n",
        "from sklearn.model_selection import train_test_split\n",
        "from sklearn.preprocessing import StandardScaler\n",
        "\n",
        "# Generate synthetic dataset\n",
        "X, y = make_classification(n_samples=1000, n_features=20, n_classes=2, random_state=42)\n",
        "\n",
        "# Split and scale the data\n",
        "X_train, X_test, y_train, y_test = train_test_split(X, y, test_size=0.2, random_state=42)\n",
        "scaler = StandardScaler()\n",
        "X_train = scaler.fit_transform(X_train)\n",
        "X_test = scaler.transform(X_test)\n",
        "\n",
        "# Convert to PyTorch tensors\n",
        "X_train = torch.FloatTensor(X_train)\n",
        "y_train = torch.FloatTensor(y_train)\n",
        "X_test = torch.FloatTensor(X_test)\n",
        "y_test = torch.FloatTensor(y_test)\n",
        "\n",
        "# Define the Neural Network\n",
        "class BinaryClassifier(nn.Module):\n",
        "    def __init__(self):\n",
        "        super().__init__()\n",
        "        self.layer_1 = nn.Linear(20, 64)\n",
        "        self.layer_2 = nn.Linear(64, 32)\n",
        "        self.layer_out = nn.Linear(32, 1)\n",
        "\n",
        "        self.relu = nn.ReLU()\n",
        "        self.dropout = nn.Dropout(p=0.1)\n",
        "        self.batchnorm1 = nn.BatchNorm1d(64)\n",
        "        self.batchnorm2 = nn.BatchNorm1d(32)\n",
        "        self.sigmoid = nn.Sigmoid()\n",
        "\n",
        "    def forward(self, inputs):\n",
        "        x = self.relu(self.layer_1(inputs))\n",
        "        x = self.batchnorm1(x)\n",
        "        x = self.dropout(x)\n",
        "        x = self.relu(self.layer_2(x))\n",
        "        x = self.batchnorm2(x)\n",
        "        x = self.dropout(x)\n",
        "        x = self.sigmoid(self.layer_out(x))\n",
        "        return x\n",
        "\n",
        "# Initialize model, loss, and optimizer\n",
        "model = BinaryClassifier()\n",
        "criterion = nn.BCELoss()\n",
        "optimizer = torch.optim.Adam(model.parameters(), lr=0.001)\n",
        "\n",
        "# Training loop\n",
        "epochs = 100\n",
        "batch_size = 32\n",
        "for epoch in range(epochs):\n",
        "    model.train()\n",
        "    for i in range(0, len(X_train), batch_size):\n",
        "        batch_X = X_train[i:i+batch_size]\n",
        "        batch_y = y_train[i:i+batch_size].reshape(-1, 1)\n",
        "\n",
        "        optimizer.zero_grad()\n",
        "        outputs = model(batch_X)\n",
        "        loss = criterion(outputs, batch_y)\n",
        "        loss.backward()\n",
        "        optimizer.step()\n",
        "\n",
        "    # Evaluation\n",
        "    if epoch % 10 == 0:\n",
        "        model.eval()\n",
        "        with torch.no_grad():\n",
        "            test_outputs = model(X_test)\n",
        "            predictions = (test_outputs >= 0.5).float()\n",
        "            accuracy = (predictions.reshape(-1) == y_test).float().mean()\n",
        "            print(f'Epoch {epoch}: Test Accuracy = {accuracy:.4f}')\n",
        "\n",
        "# Final evaluation\n",
        "model.eval()\n",
        "with torch.no_grad():\n",
        "    final_outputs = model(X_test)\n",
        "    final_predictions = (final_outputs >= 0.5).float()\n",
        "    final_accuracy = (final_predictions.reshape(-1) == y_test).float().mean()\n",
        "    print(f'\\nFinal Test Accuracy: {final_accuracy:.4f}')"
      ]
    }
  ]
}